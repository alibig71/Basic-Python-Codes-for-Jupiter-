{
 "cells": [
  {
   "cell_type": "markdown",
   "metadata": {},
   "source": [
    "   # Created By AliBig71\n",
    "   \n",
    "   -**The ultimate joy of programming is to build things that you are proud of.**\n",
    "    \n",
    "    \n",
    "    \n",
    "   # Session Nine [9]"
   ]
  },
  {
   "cell_type": "code",
   "execution_count": null,
   "metadata": {},
   "outputs": [],
   "source": []
  },
  {
   "cell_type": "code",
   "execution_count": 1,
   "metadata": {},
   "outputs": [
    {
     "name": "stdout",
     "output_type": "stream",
     "text": [
      "write forever, unless there is a \"break\"\n"
     ]
    }
   ],
   "source": [
    "# Review and run code\n",
    "# this example never loops because the break has no conditions\n",
    "while True:\n",
    "    print('write forever, unless there is a \"break\"')\n",
    "    break"
   ]
  },
  {
   "cell_type": "code",
   "execution_count": 2,
   "metadata": {},
   "outputs": [
    {
     "name": "stdout",
     "output_type": "stream",
     "text": [
      "guess the number 1 to 5: w\n",
      "w is incorrect\n",
      "\n",
      "guess the number 1 to 5: 1\n",
      "1 is incorrect\n",
      "\n",
      "guess the number 1 to 5: 2\n",
      "2 is incorrect\n",
      "\n",
      "guess the number 1 to 5: 3\n",
      "3 is incorrect\n",
      "\n",
      "guess the number 1 to 5: 4\n",
      "4 is incorrect\n",
      "\n",
      "guess the number 1 to 5: 5\n",
      "Yes 5 is correct!\n",
      "\n"
     ]
    }
   ],
   "source": [
    "# [ ] review the NUMBER GUESS code then run - Q. what cause the break statement to run?\n",
    "number_guess = \"0\"\n",
    "secret_number = \"5\"\n",
    "\n",
    "while True:\n",
    "    number_guess = input(\"guess the number 1 to 5: \")\n",
    "    if number_guess == secret_number:\n",
    "        print(\"Yes\", number_guess,\"is correct!\\n\")\n",
    "        break\n",
    "    else:\n",
    "        print(number_guess,\"is incorrect\\n\")"
   ]
  },
  {
   "cell_type": "markdown",
   "metadata": {},
   "source": [
    "#  "
   ]
  },
  {
   "cell_type": "code",
   "execution_count": 3,
   "metadata": {},
   "outputs": [
    {
     "name": "stdout",
     "output_type": "stream",
     "text": [
      "enter a single word first name:Ali reza\n",
      "Ali reza is not a single world!\n",
      "enter a single word first name:Ali \n",
      "Ali  is not a single world!\n",
      "enter a single word first name:Ali\n",
      "Welcome Ali !\n"
     ]
    }
   ],
   "source": [
    "while True:\n",
    "    f_name=input(\"enter a single word first name:\")\n",
    "    if f_name.isalpha():\n",
    "        break \n",
    "    else:\n",
    "        print(f_name, \"is not a single world!\")\n",
    "        \n",
    "print(\"Welcome\", f_name, \"!\")"
   ]
  },
  {
   "cell_type": "markdown",
   "metadata": {},
   "source": [
    "- the space failed the isalpha check, the else statement runs."
   ]
  },
  {
   "cell_type": "code",
   "execution_count": 2,
   "metadata": {},
   "outputs": [
    {
     "name": "stdout",
     "output_type": "stream",
     "text": [
      "3\n",
      "4\n",
      "6\n"
     ]
    }
   ],
   "source": [
    "# [ ] review and run example\n",
    "votes = 3\n",
    "print(votes)\n",
    "\n",
    "votes = votes + 1\n",
    "print(votes)\n",
    "\n",
    "votes += 2\n",
    "print(votes)"
   ]
  },
  {
   "cell_type": "code",
   "execution_count": 3,
   "metadata": {},
   "outputs": [
    {
     "name": "stdout",
     "output_type": "stream",
     "text": [
      "6\n",
      "5\n"
     ]
    }
   ],
   "source": [
    "print(votes)\n",
    "\n",
    "votes -= 1\n",
    "print(votes)"
   ]
  },
  {
   "cell_type": "code",
   "execution_count": 4,
   "metadata": {},
   "outputs": [
    {
     "name": "stdout",
     "output_type": "stream",
     "text": [
      "seat count: 0\n",
      "seat count: 1\n",
      "seat count: 2\n",
      "seat count: 3\n",
      "seat count: 4\n"
     ]
    }
   ],
   "source": [
    "# [ ] review the SEAT COUNT code then run \n",
    "\n",
    "seat_count = 0\n",
    "while True:\n",
    "    print(\"seat count:\",seat_count)\n",
    "    seat_count = seat_count + 1\n",
    "\n",
    "    if seat_count > 4:\n",
    "        break"
   ]
  },
  {
   "cell_type": "code",
   "execution_count": 17,
   "metadata": {},
   "outputs": [
    {
     "name": "stdout",
     "output_type": "stream",
     "text": [
      "enter seat type of \"hard\",\"soft\" or \"exit\" (to finish): hard \n",
      "invalid entry: counted as hard\n",
      "enter seat type of \"hard\",\"soft\" or \"exit\" (to finish): hard \n",
      "invalid entry: counted as hard\n",
      "enter seat type of \"hard\",\"soft\" or \"exit\" (to finish): hard \n",
      "invalid entry: counted as hard\n",
      "enter seat type of \"hard\",\"soft\" or \"exit\" (to finish): soft\n",
      "\n",
      "seats are full\n",
      "4 Seats Total:  3 hard and 1 soft\n"
     ]
    }
   ],
   "source": [
    "# initialize variables\n",
    "seat_count = 0\n",
    "soft_seats = 0\n",
    "hard_seats = 0\n",
    "num_seats = 4\n",
    "\n",
    "while True:\n",
    "    seat_type = input('enter seat type of \"hard\",\"soft\" or \"exit\" (to finish): ')\n",
    "    \n",
    "    if seat_type.lower().startswith(\"e\"):\n",
    "        print()\n",
    "        break\n",
    "    elif seat_type.lower() == \"hard\":\n",
    "        hard_seats += 1\n",
    "    elif seat_type.lower() == \"soft\":\n",
    "        soft_seats += 1\n",
    "    else:\n",
    "        print(\"invalid entry: counted as hard\")\n",
    "        hard_seats += 1  \n",
    "    seat_count += 1\n",
    "    if seat_count >= num_seats:\n",
    "        print(\"\\nseats are full\")\n",
    "        break\n",
    "        \n",
    "print(seat_count,\"Seats Total: \",hard_seats,\"hard and\",soft_seats,\"soft\" )"
   ]
  },
  {
   "cell_type": "code",
   "execution_count": null,
   "metadata": {},
   "outputs": [],
   "source": []
  },
  {
   "cell_type": "code",
   "execution_count": null,
   "metadata": {},
   "outputs": [],
   "source": []
  }
 ],
 "metadata": {
  "kernelspec": {
   "display_name": "Python 3",
   "language": "python",
   "name": "python3"
  },
  "language_info": {
   "codemirror_mode": {
    "name": "ipython",
    "version": 3
   },
   "file_extension": ".py",
   "mimetype": "text/x-python",
   "name": "python",
   "nbconvert_exporter": "python",
   "pygments_lexer": "ipython3",
   "version": "3.7.6"
  }
 },
 "nbformat": 4,
 "nbformat_minor": 4
}
