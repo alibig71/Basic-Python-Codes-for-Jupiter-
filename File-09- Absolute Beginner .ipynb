{
 "cells": [
  {
   "cell_type": "markdown",
   "metadata": {},
   "source": [
    "   # Created By AliBig71\n",
    "   \n",
    "   -**The ultimate joy of programming is to build things that you are proud of.**\n",
    "    \n",
    "    \n",
    "    \n",
    "   # Session Ten [10]"
   ]
  },
  {
   "cell_type": "code",
   "execution_count": 4,
   "metadata": {},
   "outputs": [
    {
     "name": "stdout",
     "output_type": "stream",
     "text": [
      "5 -**\n",
      "4 -**\n",
      "3 -**\n",
      "2 -**\n",
      "1 -**\n",
      "\n",
      "IGNITION!\n"
     ]
    }
   ],
   "source": [
    "greet_count = 5\n",
    "\n",
    "# loop while count is greater than 0\n",
    "while greet_count > 0:\n",
    "    print(greet_count, \"-**\")\n",
    "    greet_count -= 1\n",
    "print(\"\\nIGNITION!\")"
   ]
  },
  {
   "cell_type": "code",
   "execution_count": 5,
   "metadata": {},
   "outputs": [
    {
     "name": "stdout",
     "output_type": "stream",
     "text": [
      "enter student's first (Letters only, No spaces): Ali Big\n",
      "enter student's first (Letters only, No spaces): Ali\n",
      "\n",
      "Ali has been entered as first name\n"
     ]
    }
   ],
   "source": [
    "student_fname = \"\"\n",
    "while student_fname.isalpha() == False:\n",
    "    student_fname = input(\"enter student\\'s first (Letters only, No spaces): \")\n",
    "print(\"\\n\" + student_fname.title(),\"has been entered as first name\")"
   ]
  },
  {
   "cell_type": "code",
   "execution_count": 8,
   "metadata": {},
   "outputs": [
    {
     "name": "stdout",
     "output_type": "stream",
     "text": [
      "Sorry,can't hear, please yell message: ALI ARRIVED \n",
      "message \" ALI ARRIVED  \" recieved\n"
     ]
    }
   ],
   "source": [
    "message= \"hi\"\n",
    "while message.isupper() != True:\n",
    "    message = input(\"Sorry,can\\'t hear, please yell message: \")\n",
    "    \n",
    "print('message \"', message, '\" recieved')"
   ]
  },
  {
   "cell_type": "code",
   "execution_count": 11,
   "metadata": {},
   "outputs": [
    {
     "name": "stdout",
     "output_type": "stream",
     "text": [
      "enter positive integer: 3.3\n",
      "enter positive integer: -6\n",
      "enter positive integer: five \\\n",
      "enter positive integer: 4\n",
      "4 is an integer\n"
     ]
    }
   ],
   "source": [
    "number=\"\"\n",
    "while number.isdigit() != True:\n",
    "    number = input(\"enter positive integer: \")\n",
    "print(number, \"is an integer\")"
   ]
  },
  {
   "cell_type": "code",
   "execution_count": null,
   "metadata": {},
   "outputs": [],
   "source": []
  }
 ],
 "metadata": {
  "kernelspec": {
   "display_name": "Python 3",
   "language": "python",
   "name": "python3"
  },
  "language_info": {
   "codemirror_mode": {
    "name": "ipython",
    "version": 3
   },
   "file_extension": ".py",
   "mimetype": "text/x-python",
   "name": "python",
   "nbconvert_exporter": "python",
   "pygments_lexer": "ipython3",
   "version": "3.7.6"
  }
 },
 "nbformat": 4,
 "nbformat_minor": 4
}
